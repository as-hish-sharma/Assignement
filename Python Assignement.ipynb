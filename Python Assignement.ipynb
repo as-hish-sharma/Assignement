{
 "cells": [
  {
   "cell_type": "code",
   "execution_count": 1,
   "id": "3e20bb9b",
   "metadata": {},
   "outputs": [],
   "source": [
    "def sortColors(nums):\n",
    "    low, mid, high = 0, 0, len(nums) - 1\n",
    "    \n",
    "    while mid <= high:\n",
    "        if nums[mid] == 0:\n",
    "            nums[low], nums[mid] = nums[mid], nums[low]\n",
    "            low += 1\n",
    "            mid += 1\n",
    "        elif nums[mid] == 1:\n",
    "            mid += 1\n",
    "        else:  # nums[mid] == 2\n",
    "            nums[high], nums[mid] = nums[mid], nums[high]\n",
    "            high -= 1"
   ]
  },
  {
   "cell_type": "code",
   "execution_count": 2,
   "id": "fd84a557",
   "metadata": {},
   "outputs": [
    {
     "name": "stdout",
     "output_type": "stream",
     "text": [
      "[0, 0, 1, 1, 2, 2]\n"
     ]
    }
   ],
   "source": [
    "nums1 = [2, 0, 2, 1, 1, 0]\n",
    "sortColors(nums1)\n",
    "print(nums1) \n"
   ]
  },
  {
   "cell_type": "code",
   "execution_count": 3,
   "id": "535d450a",
   "metadata": {},
   "outputs": [
    {
     "name": "stdout",
     "output_type": "stream",
     "text": [
      "[0, 1, 2]\n"
     ]
    }
   ],
   "source": [
    "nums2 = [2, 0, 1]\n",
    "sortColors(nums2)\n",
    "print(nums2)"
   ]
  }
 ],
 "metadata": {
  "kernelspec": {
   "display_name": "Python 3 (ipykernel)",
   "language": "python",
   "name": "python3"
  },
  "language_info": {
   "codemirror_mode": {
    "name": "ipython",
    "version": 3
   },
   "file_extension": ".py",
   "mimetype": "text/x-python",
   "name": "python",
   "nbconvert_exporter": "python",
   "pygments_lexer": "ipython3",
   "version": "3.11.5"
  }
 },
 "nbformat": 4,
 "nbformat_minor": 5
}
